{
 "cells": [
  {
   "cell_type": "markdown",
   "metadata": {},
   "source": [
    "# LULC Processor"
   ]
  },
  {
   "cell_type": "markdown",
   "metadata": {},
   "source": [
    "### Library"
   ]
  },
  {
   "cell_type": "code",
   "execution_count": null,
   "metadata": {},
   "outputs": [],
   "source": [
    "# Library\n",
    "import os\n",
    "import geopandas as gpd\n",
    "import rasterio\n",
    "import numpy as np\n",
    "import pandas as pd\n",
    "import matplotlib.pyplot as plt\n",
    "import rasterio.mask\n",
    "from rasterio.plot import show\n",
    "from rasterio.warp import transform_geom"
   ]
  },
  {
   "cell_type": "markdown",
   "metadata": {},
   "source": [
    "### File Paths"
   ]
  },
  {
   "cell_type": "code",
   "execution_count": null,
   "metadata": {},
   "outputs": [],
   "source": [
    "# Define file path\n",
    "shapefile_path = r'your path\\yourSHP.shp'\n",
    "lulc_folder = r'your LULC folder path'\n",
    "output_excel = r'your path\\LULC_Analysis.xlsx'\n",
    "output_image = r'your LULC output folder path'"
   ]
  },
  {
   "cell_type": "markdown",
   "metadata": {},
   "source": [
    "### Script "
   ]
  },
  {
   "cell_type": "code",
   "execution_count": null,
   "metadata": {},
   "outputs": [],
   "source": [
    "# Define land use categories and runoff coefficients\n",
    "land_use_classes = {\n",
    "    1: ('Evergreen Needleleaf Forests', 0.30, '#05450a'),\n",
    "    2: ('Evergreen Broadleaf Forests', 0.25, '#086a10'),\n",
    "    3: ('Deciduous Needleleaf Forests', 0.35, '#54a708'),\n",
    "    4: ('Deciduous Broadleaf Forests', 0.30, '#78d203'),\n",
    "    5: ('Mixed Forests', 0.30, '#009900'),\n",
    "    6: ('Closed Shrublands', 0.45, '#c6b044'),\n",
    "    7: ('Open Shrublands', 0.40, '#dcd159'),\n",
    "    8: ('Woody Savannas', 0.20, '#dade48'),\n",
    "    9: ('Savannas', 0.20, '#fbff13'),\n",
    "    10: ('Grasslands', 0.40, '#b6ff05'),\n",
    "    11: ('Permanent Wetlands', 0.60, '#27ff87'),\n",
    "    12: ('Croplands', 0.75, '#c24f44'),\n",
    "    13: ('Urban and Built-Up', 0.90, '#a5a5a5'),\n",
    "    14: ('Cropland/Natural Vegetation Mosaics', 0.60, '#ff6d4c'),\n",
    "    15: ('Snow and Ice', 0.05, '#69fff8'),\n",
    "    16: ('Barren', 0.05, '#f9ffa4'),\n",
    "    17: ('Water Bodies', 0.05, '#1c0dff'),\n",
    "    0:  ('NoData',0.00,'#ffffff')\n",
    "}\n",
    "\n",
    "# Load shapefile\n",
    "shapefile = gpd.read_file(shapefile_path)\n",
    "\n",
    "# Function to reproject shapefile to match raster CRS\n",
    "def reproject_shapefile(shapefile, raster_crs):\n",
    "    return shapefile.to_crs(raster_crs)\n",
    "\n",
    "# Function to clip raster\n",
    "def clip_raster(raster_path, shapes):\n",
    "    with rasterio.open(raster_path) as src:\n",
    "        raster_crs = src.crs  # Get raster CRS\n",
    "        \n",
    "        # Reproject shapefile if necessary\n",
    "        reprojected_shapefile = reproject_shapefile(shapefile, raster_crs)\n",
    "        \n",
    "        # Transform shapes to match raster CRS\n",
    "        shapes_transformed = [transform_geom(reprojected_shapefile.crs, raster_crs, geom.__geo_interface__) for geom in reprojected_shapefile.geometry]\n",
    "        \n",
    "        # Clip raster\n",
    "        clipped, transform = rasterio.mask.mask(src, shapes_transformed, crop=True)\n",
    "        meta = src.meta.copy()\n",
    "        meta.update({\"height\": clipped.shape[1], \"width\": clipped.shape[2], \"transform\": transform})\n",
    "    return clipped[0], meta\n",
    "\n",
    "# Initialize data storage\n",
    "results = []\n",
    "\n",
    "# Process each LULC file\n",
    "for file in sorted(os.listdir(lulc_folder)):\n",
    "    if file.endswith('.tif'):\n",
    "        year = int(''.join(filter(str.isdigit, file)))  # Extract numeric year\n",
    "        file_path = os.path.join(lulc_folder, file)\n",
    "        \n",
    "        # Clip raster\n",
    "        lulc_data, meta = clip_raster(file_path, shapefile.geometry)\n",
    "        \n",
    "        # Exclude NoData (0) values\n",
    "        valid_mask = lulc_data != 0  # Create a mask for valid values\n",
    "        lulc_data = lulc_data[valid_mask]  # Apply mask\n",
    "        \n",
    "        if lulc_data.size == 0:  # Skip if all values are NoData\n",
    "            continue\n",
    "        \n",
    "        # Compute area and percentage\n",
    "        unique, counts = np.unique(lulc_data, return_counts=True)\n",
    "        total_area = sum(counts)\n",
    "        \n",
    "        for code, count in zip(unique, counts):\n",
    "            if code in land_use_classes:\n",
    "                land_use_name, rc, color = land_use_classes[code]\n",
    "                area_km2 = (count * meta['transform'][0] * -meta['transform'][4]) / 1e6  # Convert to sq km\n",
    "                percentage = (count / total_area) * 100\n",
    "                weighted_rc = area_km2 * rc\n",
    "                results.append([year, code, land_use_name, area_km2, percentage, rc, weighted_rc, color])\n",
    "\n",
    "# Convert to DataFrame and calculate total average RC\n",
    "results_df = pd.DataFrame(results, columns=['Year', 'Category', 'Land Use Name', 'Area (sq km)', 'Percentage (%)', 'Runoff Coefficient', 'Weighted RC', 'Color'])\n",
    "results_df['Total Average RC'] = results_df.groupby('Year')['Weighted RC'].transform(lambda x: x.sum() / x.count())\n",
    "results_df['Impervious Value'] = results_df['Runoff Coefficient'].apply(lambda x: 1 if x >= 0.8 else 0)\n",
    "\n",
    "# Save to Excel\n",
    "results_df.to_excel(output_excel, index=False)\n",
    "\n",
    "print(\"LULC analysis completed. Results saved to Excel.\")"
   ]
  },
  {
   "cell_type": "markdown",
   "metadata": {},
   "source": [
    "### Plot"
   ]
  },
  {
   "cell_type": "code",
   "execution_count": null,
   "metadata": {},
   "outputs": [],
   "source": [
    "# Plot LULC changes over time\n",
    "fig, axes = plt.subplots(6, 4, figsize=(20, 20))  # Adjust grid size as needed\n",
    "axes = axes.ravel()\n",
    "\n",
    "for idx, year in enumerate(range(2001, 2025)):\n",
    "    file_path = os.path.join(lulc_folder, f'LULC_{year}.tif')\n",
    "    if os.path.exists(file_path):\n",
    "        lulc_data, _ = clip_raster(file_path, shapefile.geometry)\n",
    "        color_map = np.zeros((lulc_data.shape[0], lulc_data.shape[1], 3), dtype=np.uint8)\n",
    "        for code, (_, _, color) in land_use_classes.items():\n",
    "            mask = lulc_data == code\n",
    "            rgb = tuple(int(color[i:i+2], 16) for i in (1, 3, 5))\n",
    "            color_map[mask] = rgb\n",
    "        \n",
    "        axes[idx].imshow(color_map)\n",
    "        axes[idx].set_title(f'LULC {year}')\n",
    "        axes[idx].axis('on')\n",
    "        \n",
    "plt.tight_layout()\n",
    "plt.savefig(output_image, dpi=300)\n",
    "plt.show()\n",
    "\n",
    "print(\"LULC analysis completed. Visualization generated.\")"
   ]
  },
  {
   "cell_type": "markdown",
   "metadata": {},
   "source": [
    "# Chart Plotting"
   ]
  },
  {
   "cell_type": "markdown",
   "metadata": {},
   "source": [
    "### Library"
   ]
  },
  {
   "cell_type": "code",
   "execution_count": null,
   "metadata": {},
   "outputs": [],
   "source": [
    "import pandas as pd\n",
    "import matplotlib.pyplot as plt"
   ]
  },
  {
   "cell_type": "markdown",
   "metadata": {},
   "source": [
    "### Script & Plot"
   ]
  },
  {
   "cell_type": "code",
   "execution_count": null,
   "metadata": {},
   "outputs": [],
   "source": [
    "# Convert results to DataFrame\n",
    "df = pd.DataFrame(results, columns=['Year', 'Category', 'Land Use Name', 'Area (sq km)', 'Percentage', 'Runoff Coefficient', 'Weighted RC', 'Color'])\n",
    "\n",
    "# Pivot the DataFrame for trend analysis\n",
    "trend_df = df.pivot(index='Year', columns='Land Use Name', values='Area (sq km)')\n",
    "\n",
    "# Create the figure and axes\n",
    "fig, axes = plt.subplots(3, 1, figsize=(12, 10), sharex=True)\n",
    "\n",
    "# --- Plot 1: Overall Land Use Change Trends ---\n",
    "axes[0].set_title('Overall Land Use Change Trends on Martapura Watershed (2001-2023)')\n",
    "for category in trend_df.columns:\n",
    "    axes[0].plot(trend_df.index, trend_df[category], label=category, marker='o')\n",
    "\n",
    "axes[0].set_ylabel('Area (sq km)')\n",
    "axes[0].legend(title='Land Use Categories', bbox_to_anchor=(1.05, 1), loc='upper left')\n",
    "axes[0].grid(True)\n",
    "\n",
    "# --- Plot 2: Urban Areas ---\n",
    "special_categories = ['Urban and Built-Up']\n",
    "trend_special = trend_df[special_categories]  # Filter only these categories\n",
    "\n",
    "axes[1].set_title('Urban Area Trends on Martapura Watershed (2001-2023)')\n",
    "for category in special_categories:\n",
    "    axes[1].plot(trend_special.index, trend_special[category], label=category, marker='o')\n",
    "\n",
    "axes[1].set_xlabel('Year')\n",
    "axes[1].set_ylabel('Area (sq km)')\n",
    "axes[1].legend(title='Land Use Categories', bbox_to_anchor=(1.05, 1), loc='upper left')\n",
    "axes[1].grid(True)\n",
    "\n",
    "# --- Plot 3: Croplands and Wetlands ---\n",
    "special_categories = ['Croplands','Permanent Wetlands']\n",
    "trend_special = trend_df[special_categories]  # Filter only these categories\n",
    "\n",
    "axes[2].set_title('Croplands and Wetlands Trends on Martapura Watershed (2001-2023)')\n",
    "for category in special_categories:\n",
    "    axes[2].plot(trend_special.index, trend_special[category], label=category, marker='o')\n",
    "\n",
    "axes[2].set_xlabel('Year')\n",
    "axes[2].set_ylabel('Area (sq km)')\n",
    "axes[2].legend(title='Land Use Categories', bbox_to_anchor=(1.05, 1), loc='upper left')\n",
    "axes[2].grid(True)\n",
    "\n",
    "# Adjust layout and show the plot\n",
    "plt.tight_layout()\n",
    "plt.show()"
   ]
  }
 ],
 "metadata": {
  "kernelspec": {
   "display_name": "base",
   "language": "python",
   "name": "python3"
  },
  "language_info": {
   "codemirror_mode": {
    "name": "ipython",
    "version": 3
   },
   "file_extension": ".py",
   "mimetype": "text/x-python",
   "name": "python",
   "nbconvert_exporter": "python",
   "pygments_lexer": "ipython3",
   "version": "3.12.3"
  }
 },
 "nbformat": 4,
 "nbformat_minor": 2
}
